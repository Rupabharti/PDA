{
  "metadata": {
    "language_info": {
      "codemirror_mode": {
        "name": "python",
        "version": 3
      },
      "file_extension": ".py",
      "mimetype": "text/x-python",
      "name": "python",
      "nbconvert_exporter": "python",
      "pygments_lexer": "ipython3",
      "version": "3.8"
    },
    "kernelspec": {
      "name": "python",
      "display_name": "Python (Pyodide)",
      "language": "python"
    }
  },
  "nbformat_minor": 4,
  "nbformat": 4,
  "cells": [
    {
      "cell_type": "code",
      "source": "import pandas as pd\narray = [12, 14, 16, 18, 10, 20]\nseries_obj = pd.Series(array)\narr = series_obj.values\narr",
      "metadata": {
        "trusted": true
      },
      "execution_count": 16,
      "outputs": [
        {
          "execution_count": 16,
          "output_type": "execute_result",
          "data": {
            "text/plain": "array([12, 14, 16, 18, 10, 20], dtype=int64)"
          },
          "metadata": {}
        }
      ]
    },
    {
      "cell_type": "code",
      "source": "reshaped_arr = arr.reshape((3, 2))\n# show\n#(row , column)\nreshaped_arr",
      "metadata": {
        "trusted": true
      },
      "execution_count": 3,
      "outputs": [
        {
          "execution_count": 3,
          "output_type": "execute_result",
          "data": {
            "text/plain": "array([[12, 14],\n       [16, 18],\n       [10, 20]], dtype=int64)"
          },
          "metadata": {}
        }
      ]
    },
    {
      "cell_type": "code",
      "source": "import pandas as pd\narray = [\"ankit\",\"shaurya\",\n\"shivangi\", \"priya\",\n\"jeet\",\"ananya\"]\nseries_obj = pd.Series(array)\nprint(\"Given Series:\\n\", series_obj)\narr = series_obj.values\narr",
      "metadata": {
        "trusted": true
      },
      "execution_count": 4,
      "outputs": [
        {
          "name": "stdout",
          "text": "Given Series:\n 0       ankit\n1     shaurya\n2    shivangi\n3       priya\n4        jeet\n5      ananya\ndtype: object\n",
          "output_type": "stream"
        },
        {
          "execution_count": 4,
          "output_type": "execute_result",
          "data": {
            "text/plain": "array(['ankit', 'shaurya', 'shivangi', 'priya', 'jeet', 'ananya'],\n      dtype=object)"
          },
          "metadata": {}
        }
      ]
    },
    {
      "cell_type": "code",
      "source": "reshaped_arr = arr.reshape((3, 2))\n# show\nprint(\"After Reshaping: \\n\", reshaped_arr)",
      "metadata": {
        "trusted": true
      },
      "execution_count": 7,
      "outputs": [
        {
          "name": "stdout",
          "text": "After Reshaping: \n [['ankit' 'shaurya']\n ['shivangi' 'priya']\n ['jeet' 'ananya']]\n",
          "output_type": "stream"
        }
      ]
    },
    {
      "cell_type": "code",
      "source": "import pandas as pd\ndf = pd.DataFrame({'A': ['rupa', 'Bharti', 'reena'],\n'B': ['Masters', 'Graduate', 'Graduate'],\n'C': [27, 23, 21]})\ndf",
      "metadata": {
        "trusted": true
      },
      "execution_count": 15,
      "outputs": [
        {
          "execution_count": 15,
          "output_type": "execute_result",
          "data": {
            "text/plain": "        A         B   C\n0    rupa   Masters  27\n1  Bharti  Graduate  23\n2   reena  Graduate  21",
            "text/html": "<div>\n<style scoped>\n    .dataframe tbody tr th:only-of-type {\n        vertical-align: middle;\n    }\n\n    .dataframe tbody tr th {\n        vertical-align: top;\n    }\n\n    .dataframe thead th {\n        text-align: right;\n    }\n</style>\n<table border=\"1\" class=\"dataframe\">\n  <thead>\n    <tr style=\"text-align: right;\">\n      <th></th>\n      <th>A</th>\n      <th>B</th>\n      <th>C</th>\n    </tr>\n  </thead>\n  <tbody>\n    <tr>\n      <th>0</th>\n      <td>rupa</td>\n      <td>Masters</td>\n      <td>27</td>\n    </tr>\n    <tr>\n      <th>1</th>\n      <td>Bharti</td>\n      <td>Graduate</td>\n      <td>23</td>\n    </tr>\n    <tr>\n      <th>2</th>\n      <td>reena</td>\n      <td>Graduate</td>\n      <td>21</td>\n    </tr>\n  </tbody>\n</table>\n</div>"
          },
          "metadata": {}
        }
      ]
    },
    {
      "cell_type": "code",
      "source": "df.pivot(index ='A', columns ='B', values =['C', 'A'])",
      "metadata": {
        "trusted": true
      },
      "execution_count": 9,
      "outputs": [
        {
          "execution_count": 9,
          "output_type": "execute_result",
          "data": {
            "text/plain": "            C                A        \nB    Graduate Masters Graduate Masters\nA                                     \nBoby       23     NaN     Boby     NaN\nJohn      NaN      27      NaN    John\nMina       21     NaN     Mina     NaN",
            "text/html": "<div>\n<style scoped>\n    .dataframe tbody tr th:only-of-type {\n        vertical-align: middle;\n    }\n\n    .dataframe tbody tr th {\n        vertical-align: top;\n    }\n\n    .dataframe thead tr th {\n        text-align: left;\n    }\n\n    .dataframe thead tr:last-of-type th {\n        text-align: right;\n    }\n</style>\n<table border=\"1\" class=\"dataframe\">\n  <thead>\n    <tr>\n      <th></th>\n      <th colspan=\"2\" halign=\"left\">C</th>\n      <th colspan=\"2\" halign=\"left\">A</th>\n    </tr>\n    <tr>\n      <th>B</th>\n      <th>Graduate</th>\n      <th>Masters</th>\n      <th>Graduate</th>\n      <th>Masters</th>\n    </tr>\n    <tr>\n      <th>A</th>\n      <th></th>\n      <th></th>\n      <th></th>\n      <th></th>\n    </tr>\n  </thead>\n  <tbody>\n    <tr>\n      <th>Boby</th>\n      <td>23</td>\n      <td>NaN</td>\n      <td>Boby</td>\n      <td>NaN</td>\n    </tr>\n    <tr>\n      <th>John</th>\n      <td>NaN</td>\n      <td>27</td>\n      <td>NaN</td>\n      <td>John</td>\n    </tr>\n    <tr>\n      <th>Mina</th>\n      <td>21</td>\n      <td>NaN</td>\n      <td>Mina</td>\n      <td>NaN</td>\n    </tr>\n  </tbody>\n</table>\n</div>"
          },
          "metadata": {}
        }
      ]
    },
    {
      "cell_type": "code",
      "source": "import pandas as pd\n# creating dataframe\ndf = pd.DataFrame({'Name': ['rupa', 'bharti', 'purti', 'rupak', 'omkar', 'sita'],\n'Gender': ['female', 'Female', 'female',\n'Female', 'male', 'Male'],\n'Age': [40, 36, 24, 35, 48, 80]})\nprint(\"Dataset\")\nprint(df)\nprint(\"-\"*40)\n# categorizing in age groups\ndef age_bucket(age):\n    if age <= 18:\n        return \"<18\"\n    else:\n        return \">18\"\n    df['Age Group'] = df['Age'].apply(age_bucket)\n    gender = pd.DataFrame(df.Gender.value_counts(normalize=True)*100).reset_index()\n    gender.columns = ['Gender', '%Gender']\n    df = pd.merge(left=df, right=gender, how='inner', on=['Gender'])\n    table = pd.pivot_table(df, index=['Gender', '%Gender', 'Age Group'],\n                           values=['Name'], aggfunc={'Name': 'count',})\n    print(\"Table\")\n    print(table)",
      "metadata": {
        "trusted": true
      },
      "execution_count": 14,
      "outputs": [
        {
          "name": "stdout",
          "text": "Dataset\n     Name  Gender  Age\n0    rupa  female   40\n1  bharti  Female   36\n2   purti  female   24\n3   rupak  Female   35\n4   omkar    male   48\n5    sita    Male   80\n----------------------------------------\n",
          "output_type": "stream"
        }
      ]
    },
    {
      "cell_type": "code",
      "source": "",
      "metadata": {},
      "execution_count": null,
      "outputs": []
    }
  ]
}